{
 "cells": [
  {
   "cell_type": "code",
   "execution_count": 1,
   "metadata": {
    "colab": {
     "base_uri": "https://localhost:8080/"
    },
    "id": "9e45VnaJLE28",
    "outputId": "3753660a-c571-423b-85c6-274ec7cc9ab5"
   },
   "outputs": [
    {
     "name": "stdout",
     "output_type": "stream",
     "text": [
      "\r",
      "0% [Working]\r",
      "            \r",
      "Get:1 http://security.ubuntu.com/ubuntu focal-security InRelease [114 kB]\n",
      "\r",
      "0% [Connecting to archive.ubuntu.com] [1 InRelease 14.2 kB/114 kB 12%] [Connect\r",
      "                                                                               \r",
      "Get:2 https://cloud.r-project.org/bin/linux/ubuntu focal-cran40/ InRelease [3,622 B]\n",
      "\r",
      "0% [Connecting to archive.ubuntu.com] [1 InRelease 54.7 kB/114 kB 48%] [2 InRel\r",
      "0% [Connecting to archive.ubuntu.com] [1 InRelease 111 kB/114 kB 98%] [Waiting \r",
      "0% [Connecting to archive.ubuntu.com] [Waiting for headers] [Connecting to ppa.\r",
      "                                                                               \r",
      "Ign:3 https://developer.download.nvidia.com/compute/machine-learning/repos/ubuntu2004/x86_64  InRelease\n",
      "\r",
      "                                                                               \r",
      "0% [Waiting for headers] [Waiting for headers] [Waiting for headers]\r",
      "                                                                    \r",
      "Hit:4 https://developer.download.nvidia.com/compute/cuda/repos/ubuntu2004/x86_64  InRelease\n",
      "\r",
      "                                                                    \r",
      "0% [Waiting for headers] [Waiting for headers]\r",
      "                                              \r",
      "Hit:5 https://developer.download.nvidia.com/compute/machine-learning/repos/ubuntu2004/x86_64  Release\n",
      "\r",
      "0% [Waiting for headers] [Waiting for headers]\r",
      "0% [Waiting for headers] [Waiting for headers]\r",
      "                                              \r",
      "Hit:6 http://archive.ubuntu.com/ubuntu focal InRelease\n",
      "Hit:7 http://ppa.launchpad.net/c2d4u.team/c2d4u4.0+/ubuntu focal InRelease\n",
      "Get:8 http://archive.ubuntu.com/ubuntu focal-updates InRelease [114 kB]\n",
      "Get:9 http://security.ubuntu.com/ubuntu focal-security/universe amd64 Packages [1,013 kB]\n",
      "Hit:10 http://ppa.launchpad.net/cran/libgit2/ubuntu focal InRelease\n",
      "Hit:11 http://ppa.launchpad.net/deadsnakes/ppa/ubuntu focal InRelease\n",
      "Get:12 http://archive.ubuntu.com/ubuntu focal-backports InRelease [108 kB]\n",
      "Hit:14 http://ppa.launchpad.net/graphics-drivers/ppa/ubuntu focal InRelease\n",
      "Hit:15 http://ppa.launchpad.net/ubuntugis/ppa/ubuntu focal InRelease\n",
      "Get:16 http://archive.ubuntu.com/ubuntu focal-updates/universe amd64 Packages [1,308 kB]\n",
      "Get:17 http://archive.ubuntu.com/ubuntu focal-updates/restricted amd64 Packages [2,134 kB]\n",
      "Get:18 http://archive.ubuntu.com/ubuntu focal-updates/multiverse amd64 Packages [31.2 kB]\n",
      "Get:19 http://archive.ubuntu.com/ubuntu focal-updates/main amd64 Packages [3,012 kB]\n",
      "Fetched 7,837 kB in 2s (3,247 kB/s)\n",
      "Reading package lists... Done\n"
     ]
    }
   ],
   "source": [
    "!apt-get update\n",
    "!apt-get install openjdk-8-jdk-headless -qq > /dev/null\n",
    "!wget -q https://archive.apache.org/dist/spark/spark-3.0.1/spark-3.0.1-bin-hadoop2.7.tgz\n",
    "!tar xf spark-3.0.1-bin-hadoop2.7.tgz\n",
    "!pip install -q findspark"
   ]
  },
  {
   "cell_type": "code",
   "execution_count": null,
   "metadata": {
    "id": "qzgVcvJ8Q_lm"
   },
   "outputs": [],
   "source": [
    "!pip install --upgrade --no-cache-dir gdown\n",
    "!gdown https://drive.google.com/u/0/uc?id=1kCXnIeoPT6p9kS_ANJ0mmpxlfDwK1yio&export=download\n",
    "!unzip DatasetToCompleteTheSixSparkExercises.zip"
   ]
  },
  {
   "cell_type": "code",
   "execution_count": 52,
   "metadata": {
    "id": "_5Y8wGkzLaFV"
   },
   "outputs": [],
   "source": [
    "import os\n",
    "os.environ[\"JAVA_HOME\"] = \"/usr/lib/jvm/java-8-openjdk-amd64\"\n",
    "os.environ[\"SPARK_HOME\"] = \"/content/spark-3.0.1-bin-hadoop2.7\"\n",
    "\n",
    "import findspark\n",
    "findspark.init()\n",
    "\n",
    "from pyspark.sql import SparkSession\n",
    "from pyspark import SparkContext, SparkConf\n",
    "\n",
    "spark = SparkSession.builder.config('spark.ui.port', '4050')\\\n",
    "                            .getOrCreate()"
   ]
  },
  {
   "cell_type": "code",
   "execution_count": 4,
   "metadata": {
    "colab": {
     "base_uri": "https://localhost:8080/"
    },
    "id": "8Vn2s4KU7nAe",
    "outputId": "dfb3bd97-e764-4860-916e-bc0793e1785b"
   },
   "outputs": [
    {
     "name": "stdout",
     "output_type": "stream",
     "text": [
      "--2023-03-06 00:17:31--  https://bin.equinox.io/c/4VmDzA7iaHb/ngrok-stable-linux-amd64.zip\n",
      "Resolving bin.equinox.io (bin.equinox.io)... 52.202.168.65, 18.205.222.128, 54.161.241.46, ...\n",
      "Connecting to bin.equinox.io (bin.equinox.io)|52.202.168.65|:443... connected.\n",
      "HTTP request sent, awaiting response... 200 OK\n",
      "Length: 13921656 (13M) [application/octet-stream]\n",
      "Saving to: ‘ngrok-stable-linux-amd64.zip’\n",
      "\n",
      "ngrok-stable-linux- 100%[===================>]  13.28M  86.7MB/s    in 0.2s    \n",
      "\n",
      "2023-03-06 00:17:31 (86.7 MB/s) - ‘ngrok-stable-linux-amd64.zip’ saved [13921656/13921656]\n",
      "\n",
      "Archive:  ngrok-stable-linux-amd64.zip\n",
      "  inflating: ngrok                   \n"
     ]
    }
   ],
   "source": [
    "!wget https://bin.equinox.io/c/4VmDzA7iaHb/ngrok-stable-linux-amd64.zip\n",
    "!unzip ngrok-stable-linux-amd64.zip"
   ]
  },
  {
   "cell_type": "code",
   "execution_count": 39,
   "metadata": {
    "colab": {
     "base_uri": "https://localhost:8080/"
    },
    "id": "NqZjA7yVCbKt",
    "outputId": "311f0b2f-135e-4a91-c1a0-23a4884660d4"
   },
   "outputs": [
    {
     "name": "stdout",
     "output_type": "stream",
     "text": [
      "Authtoken saved to configuration file: /root/.ngrok2/ngrok.yml\n"
     ]
    }
   ],
   "source": [
    "!./ngrok authtoken #Seu token"
   ]
  },
  {
   "cell_type": "markdown",
   "metadata": {
    "id": "SX7Ws_9rh_7H"
   },
   "source": []
  },
  {
   "cell_type": "code",
   "execution_count": 40,
   "metadata": {
    "id": "fZZr3gKF__3f"
   },
   "outputs": [],
   "source": [
    "get_ipython().system_raw('./ngrok http 4050 &')\n",
    "#Aguarde 10s"
   ]
  },
  {
   "cell_type": "code",
   "execution_count": 41,
   "metadata": {
    "colab": {
     "base_uri": "https://localhost:8080/"
    },
    "id": "A8cBjsp2SCCz",
    "outputId": "f24dcf40-37c5-45c4-d9b4-45efc3e39d24"
   },
   "outputs": [
    {
     "name": "stdout",
     "output_type": "stream",
     "text": [
      "{\"tunnels\":[{\"name\":\"command_line\",\"uri\":\"/api/tunnels/command_line\",\"public_url\":\"https://0807-35-188-242-127.ngrok.io\",\"proto\":\"https\",\"config\":{\"addr\":\"http://localhost:4050\",\"inspect\":true},\"metrics\":{\"conns\":{\"count\":0,\"gauge\":0,\"rate1\":0,\"rate5\":0,\"rate15\":0,\"p50\":0,\"p90\":0,\"p95\":0,\"p99\":0},\"http\":{\"count\":0,\"rate1\":0,\"rate5\":0,\"rate15\":0,\"p50\":0,\"p90\":0,\"p95\":0,\"p99\":0}}},{\"name\":\"command_line (http)\",\"uri\":\"/api/tunnels/command_line%20%28http%29\",\"public_url\":\"http://0807-35-188-242-127.ngrok.io\",\"proto\":\"http\",\"config\":{\"addr\":\"http://localhost:4050\",\"inspect\":true},\"metrics\":{\"conns\":{\"count\":0,\"gauge\":0,\"rate1\":0,\"rate5\":0,\"rate15\":0,\"p50\":0,\"p90\":0,\"p95\":0,\"p99\":0},\"http\":{\"count\":0,\"rate1\":0,\"rate5\":0,\"rate15\":0,\"p50\":0,\"p90\":0,\"p95\":0,\"p99\":0}}}],\"uri\":\"/api/tunnels\"}\n"
     ]
    }
   ],
   "source": [
    "!curl -s http://localhost:4040/api/tunnels"
   ]
  },
  {
   "cell_type": "code",
   "execution_count": 53,
   "metadata": {
    "colab": {
     "base_uri": "https://localhost:8080/"
    },
    "id": "p7WjR-ROFgAC",
    "outputId": "f93e8f0e-a7ac-457a-f4ec-0b48afca36c4"
   },
   "outputs": [
    {
     "data": {
      "text/plain": [
       "20000040"
      ]
     },
     "execution_count": 53,
     "metadata": {},
     "output_type": "execute_result"
    }
   ],
   "source": [
    "sales_dtf = spark.read.parquet(\"sales_parquet\")\n",
    "products_dtf = spark.read.parquet(\"products_parquet\")\n",
    "sellers_dtf = spark.read.parquet(\"sellers_parquet\")\n",
    "\n",
    "sales_dtf.cache().count()\n",
    "\n",
    "sales_dtf.show(5)\n",
    "sellers_dtf.show(5)\n",
    "products_dtf.show(5)"
   ]
  },
  {
   "cell_type": "code",
   "execution_count": 54,
   "metadata": {
    "colab": {
     "base_uri": "https://localhost:8080/"
    },
    "id": "jhNB2oFMGWLR",
    "outputId": "e2a5ff7d-b45d-444a-8bee-5e4acd328c8d"
   },
   "outputs": [
    {
     "data": {
      "text/plain": [
       "83"
      ]
     },
     "execution_count": 54,
     "metadata": {},
     "output_type": "execute_result"
    }
   ],
   "source": [
    "sales_dtf.rdd.getNumPartitions()"
   ]
  },
  {
   "cell_type": "code",
   "execution_count": 55,
   "metadata": {
    "id": "MrA1mJKLiwL0"
   },
   "outputs": [],
   "source": [
    "products_dtf = spark.read.parquet(\"products_parquet\")"
   ]
  },
  {
   "cell_type": "code",
   "execution_count": 58,
   "metadata": {
    "id": "uFywP83klFQc"
   },
   "outputs": [],
   "source": [
    "joined = sales_dtf.join(products_dtf,on=\"product_id\")"
   ]
  },
  {
   "cell_type": "code",
   "execution_count": 59,
   "metadata": {
    "colab": {
     "base_uri": "https://localhost:8080/"
    },
    "id": "HFlE5h0plQCj",
    "outputId": "86ca1a11-2759-4f01-cb20-f3470bb9fa76"
   },
   "outputs": [
    {
     "name": "stdout",
     "output_type": "stream",
     "text": [
      "+----------+--------+---------+----------+---------------+--------------------+----------------+-----+\n",
      "|product_id|order_id|seller_id|      date|num_pieces_sold|       bill_raw_text|    product_name|price|\n",
      "+----------+--------+---------+----------+---------------+--------------------+----------------+-----+\n",
      "|  10005243|12478308|        6|2020-07-04|             98|qfvpgiscflyjxphcq...|product_10005243|   44|\n",
      "|  10023464| 8996776|        9|2020-07-03|             59|jjbyqkzcimBfoehbv...|product_10023464|   19|\n",
      "|  10050363|10476976|        6|2020-07-03|             18|xqhlvkpxtzrfdadry...|product_10050363|   98|\n",
      "|  10089524| 5977582|        2|2020-07-01|             53|jchvhzbeaicqitpvx...|product_10089524|  100|\n",
      "|  10122266| 1482892|        2|2020-07-07|             25|kezhpglnqigaqwrss...|product_10122266|   89|\n",
      "|  10134574| 2987749|        3|2020-07-03|             28|bmtlxvobfmerqlckf...|product_10134574|  138|\n",
      "|  10150439|15982399|        4|2020-07-01|             72|rvgiffufcxceotpdn...|product_10150439|   71|\n",
      "|  10158822|12494868|        9|2020-07-09|             86|pzrsootkmszwuzpsi...|product_10158822|   35|\n",
      "|  10160884|18485793|        7|2020-07-01|             89|goZelczdeypjghxta...|product_10160884|   52|\n",
      "|  10172594| 2499725|        2|2020-07-03|             60|gndkqyfadrbiaasna...|product_10172594|   81|\n",
      "|  10175294| 2491769|        7|2020-07-09|             29|owrjfdkvctlnpgwcn...|product_10175294|  112|\n",
      "|   1017716| 7996888|        9|2020-07-08|             82|khdtupfmrdgaayizq...| product_1017716|   66|\n",
      "|  10200802|17998848|        2|2020-07-04|             42|nwtragsmtdzwuddxb...|product_10200802|   41|\n",
      "|  10215353|10978787|        1|2020-07-06|             22|qaihdzblvkhjcnqzz...|product_10215353|   56|\n",
      "|  10218345|10985061|        4|2020-07-10|             98|ypwtputatDvrxntll...|product_10218345|  141|\n",
      "|  10220977|10484807|        5|2020-07-10|             76|hfytxferykvmdaope...|product_10220977|  132|\n",
      "|  10255853| 6990855|        7|2020-07-03|             26|nychcgnenspynymic...|product_10255853|  120|\n",
      "|  10288525|16495205|        6|2020-07-06|             63|fynucihpbitrmbcqg...|product_10288525|  132|\n",
      "|  10304712| 1985267|        9|2020-07-05|             48|pjlfowgkhrncuboha...|product_10304712|   24|\n",
      "|  10324080|10988195|        6|2020-07-04|              5|ypdylfnxjvaphduiy...|product_10324080|  130|\n",
      "+----------+--------+---------+----------+---------------+--------------------+----------------+-----+\n",
      "only showing top 20 rows\n",
      "\n"
     ]
    }
   ],
   "source": [
    "joined.show()"
   ]
  }
 ],
 "metadata": {
  "colab": {
   "provenance": []
  },
  "kernelspec": {
   "display_name": "Python 3 (ipykernel)",
   "language": "python",
   "name": "python3"
  },
  "language_info": {
   "codemirror_mode": {
    "name": "ipython",
    "version": 3
   },
   "file_extension": ".py",
   "mimetype": "text/x-python",
   "name": "python",
   "nbconvert_exporter": "python",
   "pygments_lexer": "ipython3",
   "version": "3.10.5"
  }
 },
 "nbformat": 4,
 "nbformat_minor": 1
}
